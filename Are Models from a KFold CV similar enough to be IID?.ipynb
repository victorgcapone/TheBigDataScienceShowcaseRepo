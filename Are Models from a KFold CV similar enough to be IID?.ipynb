{
 "cells": [
  {
   "cell_type": "markdown",
   "metadata": {},
   "source": [
    "# Introduction\n",
    "\n",
    "IID (Independent Identical Distribution) is a necessary condition for the application of many statistical\n",
    "methods and thus if we are to use those methods as means for selecting machine learning models it is desirable\n",
    "that whatever metric we are using to evaluate our model is IID.\n",
    "\n",
    "That said, it is really hard to give any guarantees when talking about machine learning since models have so many parameters we can never really say that two different samples of metric from two models come from an identical distribution.\n",
    "\n",
    "However, can we measure how similar two models are (and then, to some degree, how similar the metric distributions are too)? This is what we are trying to look into here"
   ]
  },
  {
   "cell_type": "markdown",
   "metadata": {},
   "source": [
    "# The usual suspects\n",
    "\n",
    "Lets just import all the libraries we are used too, we will be using the boston housing dataset for this experiment"
   ]
  },
  {
   "cell_type": "code",
   "execution_count": 1,
   "metadata": {},
   "outputs": [],
   "source": [
    "import pandas as pd\n",
    "import numpy as np\n",
    "import matplotlib.pyplot as plt\n",
    "from sklearn.datasets import load_boston\n",
    "np.random.seed(123456)"
   ]
  },
  {
   "cell_type": "code",
   "execution_count": 2,
   "metadata": {},
   "outputs": [
    {
     "data": {
      "text/html": [
       "<div>\n",
       "<style scoped>\n",
       "    .dataframe tbody tr th:only-of-type {\n",
       "        vertical-align: middle;\n",
       "    }\n",
       "\n",
       "    .dataframe tbody tr th {\n",
       "        vertical-align: top;\n",
       "    }\n",
       "\n",
       "    .dataframe thead th {\n",
       "        text-align: right;\n",
       "    }\n",
       "</style>\n",
       "<table border=\"1\" class=\"dataframe\">\n",
       "  <thead>\n",
       "    <tr style=\"text-align: right;\">\n",
       "      <th></th>\n",
       "      <th>CRIM</th>\n",
       "      <th>ZN</th>\n",
       "      <th>INDUS</th>\n",
       "      <th>CHAS</th>\n",
       "      <th>NOX</th>\n",
       "      <th>RM</th>\n",
       "      <th>AGE</th>\n",
       "      <th>DIS</th>\n",
       "      <th>RAD</th>\n",
       "      <th>TAX</th>\n",
       "      <th>PTRATIO</th>\n",
       "      <th>B</th>\n",
       "      <th>LSTAT</th>\n",
       "    </tr>\n",
       "  </thead>\n",
       "  <tbody>\n",
       "    <tr>\n",
       "      <th>387</th>\n",
       "      <td>22.59710</td>\n",
       "      <td>0.0</td>\n",
       "      <td>18.10</td>\n",
       "      <td>0.0</td>\n",
       "      <td>0.700</td>\n",
       "      <td>5.000</td>\n",
       "      <td>89.5</td>\n",
       "      <td>1.5184</td>\n",
       "      <td>24.0</td>\n",
       "      <td>666.0</td>\n",
       "      <td>20.2</td>\n",
       "      <td>396.90</td>\n",
       "      <td>31.99</td>\n",
       "    </tr>\n",
       "    <tr>\n",
       "      <th>296</th>\n",
       "      <td>0.05372</td>\n",
       "      <td>0.0</td>\n",
       "      <td>13.92</td>\n",
       "      <td>0.0</td>\n",
       "      <td>0.437</td>\n",
       "      <td>6.549</td>\n",
       "      <td>51.0</td>\n",
       "      <td>5.9604</td>\n",
       "      <td>4.0</td>\n",
       "      <td>289.0</td>\n",
       "      <td>16.0</td>\n",
       "      <td>392.85</td>\n",
       "      <td>7.39</td>\n",
       "    </tr>\n",
       "    <tr>\n",
       "      <th>481</th>\n",
       "      <td>5.70818</td>\n",
       "      <td>0.0</td>\n",
       "      <td>18.10</td>\n",
       "      <td>0.0</td>\n",
       "      <td>0.532</td>\n",
       "      <td>6.750</td>\n",
       "      <td>74.9</td>\n",
       "      <td>3.3317</td>\n",
       "      <td>24.0</td>\n",
       "      <td>666.0</td>\n",
       "      <td>20.2</td>\n",
       "      <td>393.07</td>\n",
       "      <td>7.74</td>\n",
       "    </tr>\n",
       "    <tr>\n",
       "      <th>456</th>\n",
       "      <td>4.66883</td>\n",
       "      <td>0.0</td>\n",
       "      <td>18.10</td>\n",
       "      <td>0.0</td>\n",
       "      <td>0.713</td>\n",
       "      <td>5.976</td>\n",
       "      <td>87.9</td>\n",
       "      <td>2.5806</td>\n",
       "      <td>24.0</td>\n",
       "      <td>666.0</td>\n",
       "      <td>20.2</td>\n",
       "      <td>10.48</td>\n",
       "      <td>19.01</td>\n",
       "    </tr>\n",
       "    <tr>\n",
       "      <th>505</th>\n",
       "      <td>0.04741</td>\n",
       "      <td>0.0</td>\n",
       "      <td>11.93</td>\n",
       "      <td>0.0</td>\n",
       "      <td>0.573</td>\n",
       "      <td>6.030</td>\n",
       "      <td>80.8</td>\n",
       "      <td>2.5050</td>\n",
       "      <td>1.0</td>\n",
       "      <td>273.0</td>\n",
       "      <td>21.0</td>\n",
       "      <td>396.90</td>\n",
       "      <td>7.88</td>\n",
       "    </tr>\n",
       "  </tbody>\n",
       "</table>\n",
       "</div>"
      ],
      "text/plain": [
       "         CRIM   ZN  INDUS  CHAS    NOX     RM   AGE     DIS   RAD    TAX  \\\n",
       "387  22.59710  0.0  18.10   0.0  0.700  5.000  89.5  1.5184  24.0  666.0   \n",
       "296   0.05372  0.0  13.92   0.0  0.437  6.549  51.0  5.9604   4.0  289.0   \n",
       "481   5.70818  0.0  18.10   0.0  0.532  6.750  74.9  3.3317  24.0  666.0   \n",
       "456   4.66883  0.0  18.10   0.0  0.713  5.976  87.9  2.5806  24.0  666.0   \n",
       "505   0.04741  0.0  11.93   0.0  0.573  6.030  80.8  2.5050   1.0  273.0   \n",
       "\n",
       "     PTRATIO       B  LSTAT  \n",
       "387     20.2  396.90  31.99  \n",
       "296     16.0  392.85   7.39  \n",
       "481     20.2  393.07   7.74  \n",
       "456     20.2   10.48  19.01  \n",
       "505     21.0  396.90   7.88  "
      ]
     },
     "execution_count": 2,
     "metadata": {},
     "output_type": "execute_result"
    }
   ],
   "source": [
    "boston = load_boston()\n",
    "data = pd.DataFrame(boston['data'], columns=boston['feature_names'])\n",
    "data.sample(5)"
   ]
  },
  {
   "cell_type": "code",
   "execution_count": 3,
   "metadata": {},
   "outputs": [],
   "source": [
    "x = data\n",
    "y = boston['target']"
   ]
  },
  {
   "cell_type": "markdown",
   "metadata": {},
   "source": [
    "# What kind of sorcery is this?\n",
    "\n",
    "A simple and intuitive way to define similarity is to think of how close two things are to a reference point, \n",
    "since \"closeness\" is a transitive property, that is: if A is close to C and B i close to C it is fair to say that A is close to B, we can try and compute how far our models are from a given point.\n",
    "\n",
    "For our experiment we will be considering Linear Regression models, each model is uniquely defined by its coefficients and intercepts, as an array of numbers, those coefficients define a point in a n-dimensional space, we can then for a set of models (and a set of points) compute the average distance from the centroid, if a bunch of models is very similar, the average distance from the centroid will be smaller as the points that represent the coefficient vectors are clustered together.\n",
    "\n",
    "As a safety measure we will normalize the distances to avoid the \"curse of high dimensions\""
   ]
  },
  {
   "cell_type": "code",
   "execution_count": 4,
   "metadata": {},
   "outputs": [],
   "source": [
    "# This function computes the scaled distances from the centroid for a set of points\n",
    "def scaled_distances_from_centroid(points):\n",
    "    scaled_coef = points/np.max(np.abs(coef))\n",
    "    scaled_centroid = scaled_coef.mean(axis=0)\n",
    "    return np.array([np.linalg.norm(point-scaled_centroid) for point in scaled_coef])"
   ]
  },
  {
   "cell_type": "code",
   "execution_count": 5,
   "metadata": {},
   "outputs": [],
   "source": [
    "# Import our Model and Cross Validation utility\n",
    "from sklearn.linear_model import LinearRegression\n",
    "from sklearn.model_selection import cross_validate\n",
    "# Lets train 9 different sets, each one with increasingly more models\n",
    "folds = np.arange(50, 500, 50)\n",
    "# And store the avg of the (scaled) distances in an array\n",
    "avg_scaled_distances = []\n",
    "for f in folds:\n",
    "    results = cross_validate(LinearRegression(normalize=True), x, y, cv = f, \n",
    "                             return_estimator= True, scoring=\"neg_root_mean_squared_error\")\n",
    "    coef = np.array([estimator.coef_ for estimator in results['estimator']])\n",
    "    avg_scaled_distances.append(np.mean(scaled_distances_from_centroid(coef)))"
   ]
  },
  {
   "cell_type": "code",
   "execution_count": 6,
   "metadata": {},
   "outputs": [
    {
     "data": {
      "image/png": "[encoded data removed]",
      "text/plain": [
       "<Figure size 600x400 with 1 Axes>"
      ]
     },
     "metadata": {
      "needs_background": "light"
     },
     "output_type": "display_data"
    }
   ],
   "source": [
    "fig, ax = plt.subplots(dpi=100)\n",
    "ax.set(title=\"Distances from Parameter Vector to Centroid\",\n",
    "      xlabel=\"Number of Folds\",\n",
    "      ylabel=\"Avg. Distance to Centroid\")\n",
    "ax.set_ylim(0, 0.04)\n",
    "ax.scatter(folds, avg_scaled_distances);"
   ]
  },
  {
   "cell_type": "markdown",
   "metadata": {},
   "source": [
    "# Interesting...\n",
    "\n",
    "As we can see, for Linear Regression models as the number K of Folds increase, the average distance of each model from the \"center\" model decreases, we interpret this as the models becoming more and more similar the more in-sample data they have to learn from.\n",
    "\n",
    "Lets try something else, lets try to see how the metric distribution from two different models trained on the same CV iteration compare."
   ]
  },
  {
   "cell_type": "code",
   "execution_count": 7,
   "metadata": {},
   "outputs": [],
   "source": [
    "# First we split 30% of the data to use as Out-of-sample later\n",
    "from sklearn.model_selection import train_test_split\n",
    "x_train, x_val, y_train, y_val = train_test_split(x,y,test_size=0.3)\n",
    "# Cross validate a bunch of models\n",
    "cv_results = cross_validate(LinearRegression(), x_train, y_train, cv = 250,\n",
    "                            return_estimator=True, scoring='neg_root_mean_squared_error')\n",
    "A, B = cv_results[\"estimator\"][:2]\n",
    "# We are using this metric\n",
    "from sklearn.metrics import mean_squared_error\n",
    "A_scores_250 = []\n",
    "B_scores_250 = []\n",
    "# Number of samples for each iteration\n",
    "samples = 50\n",
    "iterations = 200\n",
    "# Compute MSE and append to vector\n",
    "for i in range(iterations):\n",
    "    idx = np.random.choice(np.arange(len(x_val)), samples, replace=False)\n",
    "    data = x_val.iloc[idx]\n",
    "    values = y_val[idx]\n",
    "    A_scores_250.append(mean_squared_error(values, A.predict(data)))\n",
    "    B_scores_250.append(mean_squared_error(values, B.predict(data)))"
   ]
  },
  {
   "cell_type": "code",
   "execution_count": 8,
   "metadata": {},
   "outputs": [
    {
     "data": {
      "image/png": "[encoded data removed]",
      "text/plain": [
       "<Figure size 600x400 with 1 Axes>"
      ]
     },
     "metadata": {
      "needs_background": "light"
     },
     "output_type": "display_data"
    }
   ],
   "source": [
    "# Plot the histogram\n",
    "fig, ax = plt.subplots(dpi=100)\n",
    "ax.hist([A_scores_250, B_scores_250])\n",
    "ax.set(title=\"Error Metric Distribution for Models A and B\",\n",
    "      xlabel=\"Score\",\n",
    "      ylabel=\"Frequecy\")\n",
    "ax.legend([\"Model A\", \"Model B\"]);"
   ]
  },
  {
   "cell_type": "markdown",
   "metadata": {},
   "source": [
    "# Hmmm...\n",
    "\n",
    "Ok, it is not perfect and we do have some outliers, but those distributions are damn close, given: we did use 250 folds in our cross validation, lets try with 3 of those to see what happens"
   ]
  },
  {
   "cell_type": "code",
   "execution_count": 9,
   "metadata": {},
   "outputs": [],
   "source": [
    "# Cross validate 3 models\n",
    "cv_results = cross_validate(LinearRegression(), x_train, y_train, cv = 3,\n",
    "                            return_estimator=True, scoring='neg_root_mean_squared_error')\n",
    "A, B, C = cv_results[\"estimator\"][:3]\n",
    "\n",
    "A_scores_3 = []\n",
    "B_scores_3 = []\n",
    "C_scores_3 = []\n",
    "# Number of samples for each iteration\n",
    "samples = 50\n",
    "iterations = 500\n",
    "# Compute MSE and append to vector\n",
    "for i in range(iterations):\n",
    "    idx = np.random.choice(np.arange(len(x_val)), samples, replace=False)\n",
    "    data = x_val.iloc[idx]\n",
    "    values = y_val[idx]\n",
    "    A_scores_3.append(mean_squared_error(values, A.predict(data)))\n",
    "    B_scores_3.append(mean_squared_error(values, B.predict(data)))\n",
    "    C_scores_3.append(mean_squared_error(values, C.predict(data)))"
   ]
  },
  {
   "cell_type": "code",
   "execution_count": 10,
   "metadata": {},
   "outputs": [
    {
     "data": {
      "image/png": "[encoded data removed]",
      "text/plain": [
       "<Figure size 600x400 with 1 Axes>"
      ]
     },
     "metadata": {
      "needs_background": "light"
     },
     "output_type": "display_data"
    }
   ],
   "source": [
    "# Plot the histogram\n",
    "fig, ax = plt.subplots(dpi=100)\n",
    "ax.hist([A_scores_3, B_scores_3, C_scores_3])\n",
    "ax.set(title=\"Error Metric Distribution for Models A and B\",\n",
    "      xlabel=\"Score\",\n",
    "      ylabel=\"Frequecy\")\n",
    "ax.legend([\"Model A\", \"Model B\", \"Model C\"]);"
   ]
  },
  {
   "cell_type": "markdown",
   "metadata": {},
   "source": [
    "# Oh wow...\n",
    "\n",
    "Yeah, with only 3 folds the distributions look very different, anyway, lets see what Mr. Kruskal and Mr. Wallis have to say about that"
   ]
  },
  {
   "cell_type": "code",
   "execution_count": 17,
   "metadata": {},
   "outputs": [
    {
     "name": "stdout",
     "output_type": "stream",
     "text": [
      "3-Fold T-statistic is 0.9948 and p-value is 6.0812e-01\n",
      "250-Fold T-statistic is 0.0048 and p-value is 9.4483e-01\n"
     ]
    }
   ],
   "source": [
    "from scipy.stats import kruskal\n",
    "\n",
    "t_3, p_3 = kruskal(A_scores_3, B_scores_3, C_scores_3)\n",
    "t_250, p_250 = kruskal(A_scores_250, B_scores_250)\n",
    "print(f\"3-Fold T-statistic is {t_3:.4f} and p-value is {p_3:.4e}\")\n",
    "print(f\"250-Fold T-statistic is {t_250:.4f} and p-value is {p_250:.4e}\")"
   ]
  },
  {
   "cell_type": "markdown",
   "metadata": {},
   "source": [
    "Ok, those p-values won't allow us to reject $H_0$, which should mean that, as far as the scores go, each of our models is sampling from distributions with the same median"
   ]
  }
 ],
 "metadata": {
  "kernelspec": {
   "display_name": "Python 3",
   "language": "python",
   "name": "python3"
  },
  "language_info": {
   "codemirror_mode": {
    "name": "ipython",
    "version": 3
   },
   "file_extension": ".py",
   "mimetype": "text/x-python",
   "name": "python",
   "nbconvert_exporter": "python",
   "pygments_lexer": "ipython3",
   "version": "3.6.9"
  }
 },
 "nbformat": 4,
 "nbformat_minor": 4
}
