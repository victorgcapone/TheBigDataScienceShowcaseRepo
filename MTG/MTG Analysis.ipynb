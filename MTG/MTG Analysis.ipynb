{
 "cells": [
  {
   "cell_type": "markdown",
   "metadata": {},
   "source": [
    "# MTG Probabilities Analysis\n",
    "\n",
    "This analysis try to outline some basic probabilities facts about Magic: The Gathering, such as probablity you will draw one of four copies of a card after a given number of turns, number of lands you play in average for different numbers of lands in your deck and other things that may give us some insight into how to play better, let's begin by explaining some rules about the game itself.\n",
    "\n",
    "1. Each deck has 60 cards in it.\n",
    "2. Other than basic lands, you may have up to 4 copies of a card in your deck.\n",
    "3. You may play a single land during your turn.\n",
    "4. You start with seven cards.\n",
    "\n",
    "This rules are a simplification to makes things easier, so let's move on.  \n",
    "Also, of course we could just use probabilities density functions and what-not to calculate all\n",
    "these stuff, but we will try to just simulate card draws because it's way cooler."
   ]
  },
  {
   "cell_type": "code",
   "execution_count": 4,
   "metadata": {
    "collapsed": true
   },
   "outputs": [],
   "source": [
    "import matplotlib.pyplot as plt\n",
    "import random as rnd\n",
    "import numpy as np\n",
    "%matplotlib inline"
   ]
  },
  {
   "cell_type": "code",
   "execution_count": 10,
   "metadata": {
    "collapsed": true
   },
   "outputs": [],
   "source": [
    "#First let's make a function to generate decks of cards for us\n",
    "def makeDeck(cards, amount):\n",
    "    if (sum(amount) != 60):\n",
    "        print(\"WARNING: Your deck has %d cards\" % sum(amount))\n",
    "    deck = []\n",
    "    for c, a in zip(cards, amount):\n",
    "        deck.extend([c]*a)\n",
    "    return deck\n",
    "# We pass to the function a list of labels for our cards and a list\n",
    "# with the amount we want of each card, the labels may be anything we wish\n",
    "# but we will use numbers for the sake of simplicity\n",
    "# Note that we may use padding values for our cards since it doesn't \n",
    "# change the out comes, so there may be more than 4 copies of\n",
    "# padding cards"
   ]
  },
  {
   "cell_type": "markdown",
   "metadata": {},
   "source": [
    "# Land drop analysis\n",
    "\n",
    "The first analysis is the land drop analysis, here we will try to find a good amount of lands for your deck, in real play this is will vary according with your deck's mana curve, but let's just ignore that for now.\n",
    "Here is the idea:\n",
    "1. Generate a deck with $L$ lands and $60-L$ padding cards\n",
    "2. Shuffle it\n",
    "3. Draw seven cards\n",
    "4. Play $10$ turns\n",
    "5. Plot Lands Played vs. Turn and Total Lands vs. Turn\n",
    "\n",
    "Note that, since you can only play 1 land a turn, having a bunch of them in your hand is not a good thing\n",
    "that's why we will plot the Total Lands vs. Turn"
   ]
  },
  {
   "cell_type": "code",
   "execution_count": 103,
   "metadata": {
    "collapsed": false
   },
   "outputs": [],
   "source": [
    "# Thsi functions will generate random metrics for a given number of lands in the deck\n",
    "def generateMetrics(amountOfLands):\n",
    "    #We label the lands as 1 so we can use the sum and cumsum functions\n",
    "    #to calculate our metrics\n",
    "    lands_deck = makeDeck([0,1],[60-L[0], L[0]])\n",
    "    #Shuffle It\n",
    "    rnd.shuffle(lands_deck)\n",
    "    #First Hand\n",
    "    starting_hand = lands_deck[:7]\n",
    "    #Let's just look at the first 10 draws\n",
    "    lands_deck = lands_deck[7:17]\n",
    "    #The amount of lands in our opening hand\n",
    "    starting_lands = sum(starting_hand)\n",
    "    # Whenver we draw a land, we play it, so the \n",
    "    # number of played lands per turn is the\n",
    "    # cumulative sum of lands draw + any lands that may be on our hand\n",
    "    played = np.cumsum(lands_deck)\n",
    "    used = 0\n",
    "    # Counting how many lands in hand in each turn\n",
    "    in_hand = np.array([starting_lands] * 10)\n",
    "    for i in range(len(played)):\n",
    "        p = played[i]\n",
    "        if used == starting_lands: break\n",
    "        #If we missed our land in the draw\n",
    "        if (i==0 and p==0) or (i>0 and p==played[i-1]):\n",
    "            # We play a land from our hand\n",
    "            played = np.concatenate((played[:i],played[i:]+1))\n",
    "            in_hand = np.concatenate((in_hand[:i], in_hand[i:]-1))\n",
    "            used += 1\n",
    "    #print(\"Started with %d lands and missed %d drops while using %d lands\" % (starting_lands, \n",
    "                                                                         #     10-played[-1], amountOfLands))\n",
    "    return (starting_lands, played, in_hand)\n",
    "\n",
    "_, played, in_hand = generateMetrics(20)"
   ]
  },
  {
   "cell_type": "code",
   "execution_count": 129,
   "metadata": {
    "collapsed": false
   },
   "outputs": [
    {
     "name": "stdout",
     "output_type": "stream",
     "text": [
      "{'cum_start': 10601, 'cum_hand': array([7313, 4664, 2674, 1362,  650,  266,   98,   28,    8,    4]), 'cum_played': array([ 4762,  8971, 12503, 15264, 17445, 19311, 20955, 22469, 23991, 25500])}\n",
      "{'cum_start': 10489, 'cum_hand': array([7139, 4425, 2481, 1266,  581,  240,   79,   30,    7,    0]), 'cum_played': array([ 4777,  9003, 12449, 15147, 17336, 19163, 20796, 22393, 23962, 25448])}\n",
      "{'cum_start': 10514, 'cum_hand': array([7268, 4529, 2571, 1331,  608,  247,   91,   27,    5,    1]), 'cum_played': array([ 4770,  8980, 12408, 15174, 17366, 19235, 20871, 22445, 23997, 25498])}\n"
     ]
    }
   ],
   "source": [
    "# Now let's generate 100 sample for 3 different values of L and see how they beahve in average\n",
    "L = [18,20,22]\n",
    "samples = 5000\n",
    "results = {18:{}, 20:{}, 22:{}}\n",
    "for l in L:\n",
    "    cum_played = np.array([0] * 10)\n",
    "    cum_hand = np.array([0] * 10)\n",
    "    cum_start = 0\n",
    "    for i in range(samples):\n",
    "        start,played,hand = generateMetrics(l)\n",
    "        cum_start += start\n",
    "        cum_played += played\n",
    "        cum_hand += hand\n",
    "    results[l]['cum_hand'] = cum_hand\n",
    "    results[l]['cum_played'] = cum_played\n",
    "    results[l]['cum_start'] = cum_start\n",
    "    print(results[l])"
   ]
  },
  {
   "cell_type": "code",
   "execution_count": 130,
   "metadata": {
    "collapsed": false
   },
   "outputs": [],
   "source": [
    "def makeLandsPlot(amountOfLands):\n",
    "    data = results[amountOfLands]\n",
    "    avg_played = data['cum_played']/samples\n",
    "    avg_hand = data['cum_hand']/samples\n",
    "    avg_start = data['cum_start']/samples\n",
    "    plt.title(\"Lands Played vs Turn (%d Lands)\" % amountOfLands)\n",
    "    plt.xlabel(\"Turn\")\n",
    "    plt.ylabel(\"Lands Played\")\n",
    "    plt.xlim(1, 10)\n",
    "    plt.ylim(1, 10)\n",
    "    plt.yticks([i for i in range(1,11)])\n",
    "    plt.plot([i for i in range(1,11)], avg_played)\n",
    "    plt.plot([i for i in range(1,11)], avg_hand)\n",
    "    plt.legend([\"Lands Played\", \"Lands in Hand\"])"
   ]
  },
  {
   "cell_type": "code",
   "execution_count": 131,
   "metadata": {
    "collapsed": false
   },
   "outputs": [
    {
     "data": {
      "image/png": "[encoded data removed]",
      "text/plain": [
       "<matplotlib.figure.Figure at 0x7fcdfb1249e8>"
      ]
     },
     "metadata": {},
     "output_type": "display_data"
    }
   ],
   "source": [
    "plt.figure(figsize=(12,3))\n",
    "plt.subplot(131)\n",
    "makeLandsPlot(18)\n",
    "plt.subplot(132)\n",
    "makeLandsPlot(20)\n",
    "plt.subplot(133)\n",
    "makeLandsPlot(22)"
   ]
  },
  {
   "cell_type": "code",
   "execution_count": null,
   "metadata": {
    "collapsed": true
   },
   "outputs": [],
   "source": []
  }
 ],
 "metadata": {
  "anaconda-cloud": {},
  "kernelspec": {
   "display_name": "Python [conda root]",
   "language": "python",
   "name": "conda-root-py"
  },
  "language_info": {
   "codemirror_mode": {
    "name": "ipython",
    "version": 3
   },
   "file_extension": ".py",
   "mimetype": "text/x-python",
   "name": "python",
   "nbconvert_exporter": "python",
   "pygments_lexer": "ipython3",
   "version": "3.5.2"
  }
 },
 "nbformat": 4,
 "nbformat_minor": 1
}
