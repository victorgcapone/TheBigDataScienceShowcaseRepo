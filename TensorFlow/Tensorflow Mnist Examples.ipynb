{
 "cells": [
  {
   "cell_type": "code",
   "execution_count": 1,
   "metadata": {},
   "outputs": [],
   "source": [
    "# In this notebook we will compare traditional NN\n",
    "# and CNN for the MNIST Digits dataset using tensorflow\n",
    "import tensorflow as tf\n",
    "import tensorflow.keras as keras\n",
    "import matplotlib.pyplot as plt"
   ]
  },
  {
   "cell_type": "code",
   "execution_count": 2,
   "metadata": {},
   "outputs": [],
   "source": [
    "(x_train, y_train),(x_test, y_test) = keras.datasets.mnist.load_data()\n",
    "x_train, x_test = x_train / 255.0, x_test / 255.0"
   ]
  },
  {
   "cell_type": "code",
   "execution_count": 3,
   "metadata": {},
   "outputs": [
    {
     "name": "stdout",
     "output_type": "stream",
     "text": [
      "1\n"
     ]
    },
    {
     "data": {
      "image/png": "[encoded data removed]",
      "text/plain": [
       "<Figure size 432x288 with 1 Axes>"
      ]
     },
     "metadata": {
      "needs_background": "light"
     },
     "output_type": "display_data"
    }
   ],
   "source": [
    "plt.imshow(x_train[3], cmap='gray')\n",
    "print(y_train[3])"
   ]
  },
  {
   "cell_type": "code",
   "execution_count": 4,
   "metadata": {},
   "outputs": [],
   "source": [
    "# Let's create our traditional NN\n",
    "nn = keras.models.Sequential([\n",
    "    keras.layers.Flatten(), # Flatten the 28x28 images\n",
    "    keras.layers.Dense(518, activation=tf.nn.relu), # First hidden layer, 512 neurons, ReLU activation\n",
    "    keras.layers.Dense(10, activation=tf.nn.softmax) # output Layer, 10 categories (0-9) and softmax activation\n",
    "])"
   ]
  },
  {
   "cell_type": "code",
   "execution_count": 5,
   "metadata": {},
   "outputs": [
    {
     "name": "stdout",
     "output_type": "stream",
     "text": [
      "Epoch 1/5\n",
      "60000/60000 [==============================] - 13s 214us/step - loss: 0.1973 - acc: 0.9416\n",
      "Epoch 2/5\n",
      "60000/60000 [==============================] - 10s 162us/step - loss: 0.0800 - acc: 0.9758\n",
      "Epoch 3/5\n",
      "60000/60000 [==============================] - 12s 192us/step - loss: 0.0535 - acc: 0.9830\n",
      "Epoch 4/5\n",
      "60000/60000 [==============================] - 11s 178us/step - loss: 0.0353 - acc: 0.9887\n",
      "Epoch 5/5\n",
      "60000/60000 [==============================] - 10s 170us/step - loss: 0.0274 - acc: 0.9916\n",
      "10000/10000 [==============================] - 1s 53us/step\n"
     ]
    },
    {
     "data": {
      "text/plain": [
       "[0.06767449411806592, 0.9801]"
      ]
     },
     "execution_count": 5,
     "metadata": {},
     "output_type": "execute_result"
    }
   ],
   "source": [
    "# Compile, fit and evaluate our model\n",
    "nn.compile(optimizer='adam', loss='sparse_categorical_crossentropy', metrics=['accuracy'])\n",
    "nn.fit(x_train, y_train, epochs=5)\n",
    "nn.evaluate(x_test, y_test)"
   ]
  },
  {
   "cell_type": "code",
   "execution_count": 5,
   "metadata": {},
   "outputs": [],
   "source": [
    "# Okay, let's now create a cNN without using Keras API\n",
    "def create_model(training):\n",
    "    # First, reshape ou 28x28 graymap images to 28x28x1 (single channel)\n",
    "    reshape = tf.reshape(X, [-1, 28,28, 1])\n",
    "    # Two convolutions layers with ReLU activation\n",
    "    conv_1 = tf.layers.conv2d(reshape, activation=tf.nn.relu, filters=32, kernel_size=(3,3))\n",
    "    conv_2 = tf.layers.conv2d(conv_1, activation=tf.nn.relu, filters=64, kernel_size=(3,3))\n",
    "    # Max Pooling layer\n",
    "    pool_1 = tf.layers.max_pooling2d(conv_2, pool_size=(2,2), strides=(1,1))\n",
    "    # Dropout to mitigate overfitting\n",
    "    dropout_1 = tf.layers.dropout(pool_1, rate=0.25, training=training)\n",
    "    # Flatten results for dense layers\n",
    "    flat_1  = tf.layers.flatten(dropout_1)\n",
    "    # Dense (Fully connected) layer\n",
    "    dense_1 = tf.layers.dense(flat_1, units=128, activation='relu')\n",
    "    # Output has 10 classes\n",
    "    output = tf.layers.dense(dense_1, units=10, activation='softmax', name='output')\n",
    "    return output"
   ]
  },
  {
   "cell_type": "code",
   "execution_count": 6,
   "metadata": {},
   "outputs": [],
   "source": [
    "def init_model(model, labels):\n",
    "    # Mean crossentropy as the loss function\n",
    "    xentropy =  keras.losses.sparse_categorical_crossentropy(y_pred=model, y_true=labels)\n",
    "    loss = tf.reduce_mean(xentropy)\n",
    "    # Setting our optmizer parameters\n",
    "    optmizer = tf.train.MomentumOptimizer(learning_rate=0.01, momentum=0.9)\n",
    "    training_op = optmizer.minimize(loss)\n",
    "    return training_op"
   ]
  },
  {
   "cell_type": "code",
   "execution_count": 7,
   "metadata": {},
   "outputs": [],
   "source": [
    "# Defining our placeholders \n",
    "# Input is a lot of images (None) with dimensions 28x28, \n",
    "# the channel dimensions is set by the reshape layer in the model\n",
    "X = tf.placeholder(tf.float32, shape=[None, 28, 28])\n",
    "# Output shape can be infered\n",
    "y = tf.placeholder(tf.int32, shape=[None])\n",
    "# Are we training the model? Used by the dropout layer\n",
    "training = tf.placeholder(tf.bool)\n",
    "# Create the model\n",
    "model = create_model(training)"
   ]
  },
  {
   "cell_type": "code",
   "execution_count": 8,
   "metadata": {},
   "outputs": [],
   "source": [
    "# Initializing our model\n",
    "final_model = init_model(model, y)"
   ]
  },
  {
   "cell_type": "code",
   "execution_count": 9,
   "metadata": {},
   "outputs": [],
   "source": [
    "# running TF training\n",
    "init = tf.global_variables_initializer()\n",
    "session = tf.Session()\n",
    "session.run(init)\n",
    "# Accuracy logging\n",
    "correct = tf.nn.in_top_k(model, y, 1)\n",
    "accuracy = tf.reduce_mean(tf.cast(correct, tf.float32))"
   ]
  },
  {
   "cell_type": "code",
   "execution_count": 10,
   "metadata": {},
   "outputs": [],
   "source": [
    "def yield_mb(x, y, batchsize=1000):\n",
    "    batches = int(len(x)/batchsize)\n",
    "    for i in range(batches):\n",
    "        yield (x[i*batchsize:(i+1)*batchsize], y[i*batchsize:(i+1)*batchsize])"
   ]
  },
  {
   "cell_type": "code",
   "execution_count": 13,
   "metadata": {},
   "outputs": [
    {
     "name": "stdout",
     "output_type": "stream",
     "text": [
      "Train accuracy: 0.9855\n",
      "Train accuracy: 0.979\n",
      "Train accuracy: 0.9895\n",
      "Train accuracy: 0.996\n",
      "Train accuracy: 0.992\n",
      "CPU times: user 41min 34s, sys: 3min 13s, total: 44min 48s\n",
      "Wall time: 23min 19s\n"
     ]
    }
   ],
   "source": [
    "%%time\n",
    "# Main training loop: 57s\n",
    "for test_data, test_label in yield_mb(x_test, y_test, batchsize=2000):\n",
    "    for data, label in yield_mb(x_train, y_train, batchsize=64):\n",
    "        # Make sure to run the `final_model` as it includes the optmization step\n",
    "        session.run(final_model, feed_dict={X: data, y: label, training: True})\n",
    "    # Log\n",
    "    acc_train = session.run(accuracy, feed_dict={X: test_data, y: test_label, training: True})\n",
    "    print(\"Train accuracy:\", acc_train)"
   ]
  },
  {
   "cell_type": "code",
   "execution_count": null,
   "metadata": {},
   "outputs": [],
   "source": []
  }
 ],
 "metadata": {
  "kernelspec": {
   "display_name": "Python 3",
   "language": "python",
   "name": "python3"
  },
  "language_info": {
   "codemirror_mode": {
    "name": "ipython",
    "version": 3
   },
   "file_extension": ".py",
   "mimetype": "text/x-python",
   "name": "python",
   "nbconvert_exporter": "python",
   "pygments_lexer": "ipython3",
   "version": "3.5.2"
  }
 },
 "nbformat": 4,
 "nbformat_minor": 2
}
